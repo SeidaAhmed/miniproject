{
  "nbformat": 4,
  "nbformat_minor": 0,
  "metadata": {
    "colab": {
      "provenance": []
    },
    "kernelspec": {
      "name": "python3",
      "display_name": "Python 3"
    },
    "language_info": {
      "name": "python"
    }
  },
  "cells": [
    {
      "cell_type": "code",
      "execution_count": 1,
      "metadata": {
        "colab": {
          "base_uri": "https://localhost:8080/"
        },
        "id": "AKpHDvD1Nz7s",
        "outputId": "d1e90ec9-811e-47de-c927-7f68168e3248"
      },
      "outputs": [
        {
          "output_type": "stream",
          "name": "stdout",
          "text": [
            "\n",
            "Round 1\n",
            "Enter rock, paper, or scissors: rock\n",
            "Computer chose: rock\n",
            "It's a tie!\n",
            "Score → You: 0 | Computer: 0\n",
            "\n",
            "Round 2\n",
            "Enter rock, paper, or scissors: paper\n",
            "Computer chose: scissors\n",
            "Computer wins this round!\n",
            "Score → You: 0 | Computer: 1\n",
            "\n",
            "Round 3\n",
            "Enter rock, paper, or scissors: paper\n",
            "Computer chose: rock\n",
            "You win this round!\n",
            "Score → You: 1 | Computer: 1\n",
            "\n",
            "Round 4\n",
            "Enter rock, paper, or scissors: rock\n",
            "Computer chose: paper\n",
            "Computer wins this round!\n",
            "Score → You: 1 | Computer: 2\n",
            "\n",
            "Round 5\n",
            "Enter rock, paper, or scissors: rock\n",
            "Computer chose: paper\n",
            "Computer wins this round!\n",
            "Score → You: 1 | Computer: 3\n",
            "\n",
            "Final Result:\n",
            "Computer wins the game!\n"
          ]
        }
      ],
      "source": [
        "import random\n",
        "\n",
        "choices = [\"rock\", \"paper\", \"scissors\"]\n",
        "user_score = 0\n",
        "computer_score = 0\n",
        "\n",
        "for round_num in range(1, 6):\n",
        "    print(f\"\\nRound {round_num}\")\n",
        "    user_move = input(\"Enter rock, paper, or scissors: \").lower()\n",
        "    if user_move not in choices:\n",
        "        print(\"Invalid choice. You lose this round.\")\n",
        "        computer_score += 1\n",
        "        continue\n",
        "\n",
        "    computer_move = random.choice(choices)\n",
        "    print(f\"Computer chose: {computer_move}\")\n",
        "\n",
        "    if user_move == computer_move:\n",
        "        print(\"It's a tie!\")\n",
        "    elif (user_move == \"rock\" and computer_move == \"scissors\") or \\\n",
        "         (user_move == \"paper\" and computer_move == \"rock\") or \\\n",
        "         (user_move == \"scissors\" and computer_move == \"paper\"):\n",
        "        print(\"You win this round!\")\n",
        "        user_score += 1\n",
        "    else:\n",
        "        print(\"Computer wins this round!\")\n",
        "        computer_score += 1\n",
        "\n",
        "    print(f\"Score → You: {user_score} | Computer: {computer_score}\")\n",
        "\n",
        "print(\"\\nFinal Result:\")\n",
        "if user_score > computer_score:\n",
        "    print(\"You win the game!\")\n",
        "elif user_score < computer_score:\n",
        "    print(\"Computer wins the game!\")\n",
        "else:\n",
        "    print(\"It's a tie overall!\")"
      ]
    }
  ]
}