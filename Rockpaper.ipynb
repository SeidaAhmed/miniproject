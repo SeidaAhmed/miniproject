{
  "nbformat": 4,
  "nbformat_minor": 0,
  "metadata": {
    "colab": {
      "provenance": []
    },
    "kernelspec": {
      "name": "python3",
      "display_name": "Python 3"
    },
    "language_info": {
      "name": "python"
    }
  },
  "cells": [
    {
      "cell_type": "code",
      "execution_count": 1,
      "metadata": {
        "id": "e7GYx4LKHBDr"
      },
      "outputs": [],
      "source": [
        "import random"
      ]
    },
    {
      "cell_type": "code",
      "source": [
        "class Player:\n",
        "    def __init__(self, name=\"You\"):\n",
        "        self.name = name\n",
        "        self.score = 0\n",
        "\n",
        "    def make_move(self):\n",
        "        move = input(\"Enter your move (rock, paper, scissors): \").lower()\n",
        "        while move not in [\"rock\", \"paper\", \"scissors\"]:\n",
        "            move = input(\"Invalid choice. Please enter rock, paper, or scissors: \").lower()\n",
        "        return move"
      ],
      "metadata": {
        "id": "HmrPmEk-HKES"
      },
      "execution_count": 2,
      "outputs": []
    },
    {
      "cell_type": "code",
      "source": [
        "class ComputerPlayer:\n",
        "    def __init__(self, name=\"Computer\"):\n",
        "        self.name = name\n",
        "        self.score = 0\n",
        "\n",
        "    def make_move(self):\n",
        "        move = random.choice([\"rock\", \"paper\", \"scissors\"])\n",
        "        print(f\"{self.name} chose: {move}\")\n",
        "        return move"
      ],
      "metadata": {
        "id": "PtUrp5GSHS6D"
      },
      "execution_count": 3,
      "outputs": []
    },
    {
      "cell_type": "code",
      "source": [
        "class Game:\n",
        "    def __init__(self, player1, player2):\n",
        "        self.player1 = player1\n",
        "        self.player2 = player2\n",
        "\n",
        "    def determine_winner(self, move1, move2):\n",
        "        if move1 == move2:\n",
        "            return None\n",
        "        elif (move1 == \"rock\" and move2 == \"scissors\") or \\\n",
        "             (move1 == \"scissors\" and move2 == \"paper\") or \\\n",
        "             (move1 == \"paper\" and move2 == \"rock\"):\n",
        "            return self.player1\n",
        "        else:\n",
        "            return self.player2\n",
        "    def play_round(self):\n",
        "        move1 = self.player1.make_move()\n",
        "        move2 = self.player2.make_move()\n",
        "\n",
        "        winner = self.determine_winner(move1, move2)\n",
        "\n",
        "        if winner is None:\n",
        "            print(\"It's a tie!\")\n",
        "        else:\n",
        "            winner.score += 1\n",
        "            print(f\"{winner.name} wins this round!\")\n",
        "\n",
        "        print(f\"Scores → {self.player1.name}: {self.player1.score} | {self.player2.name}: {self.player2.score}\")\n",
        "        print(\"-\" * 40)"
      ],
      "metadata": {
        "id": "kOFZAsT-HUA0"
      },
      "execution_count": 4,
      "outputs": []
    },
    {
      "cell_type": "code",
      "source": [
        "class Tournament:\n",
        "    def __init__(self, rounds=3):\n",
        "        self.rounds = rounds\n",
        "        self.player = Player()\n",
        "        self.computer = ComputerPlayer()\n",
        "\n",
        "    def play(self):\n",
        "        print(f\"Welcome to the Rock, Paper, Scissors Tournament! 🪨📄✂️\")\n",
        "        print(f\"Best of {self.rounds} rounds wins.\\n\")\n",
        "\n",
        "        game = Game(self.player, self.computer)\n",
        "\n",
        "        for round_num in range(1, self.rounds + 1):\n",
        "            print(f\"Round {round_num} of {self.rounds}\")\n",
        "            game.play_round()\n",
        "\n",
        "        self.declare_winner()\n",
        "\n",
        "    def declare_winner(self):\n",
        "        if self.player.score > self.computer.score:\n",
        "            print(f\"🏅 {self.player.name} wins the tournament!\")\n",
        "        elif self.computer.score > self.player.score:\n",
        "            print(f\"🤖 {self.computer.name} wins the tournament!\")\n",
        "        else:\n",
        "            print(\"It's a draw overall! 🎯\")\n",
        "\n",
        "    def reset(self):\n",
        "        self.player.score = 0\n",
        "        self.computer.score = 0\n",
        "\n"
      ],
      "metadata": {
        "id": "klCmtfnjHYdm"
      },
      "execution_count": 5,
      "outputs": []
    },
    {
      "cell_type": "code",
      "source": [
        "if __name__ == \"__main__\":\n",
        "    while True:\n",
        "        tournament = Tournament(rounds=3)\n",
        "        tournament.play()\n",
        "        again = input(\"\\nDo you want to play again? (yes/no): \").lower()\n",
        "        if again != \"yes\":\n",
        "            print(\"Thanks for playing! 👋\")\n",
        "            break"
      ],
      "metadata": {
        "colab": {
          "base_uri": "https://localhost:8080/"
        },
        "id": "-OfEaXSkHrEy",
        "outputId": "42a0befb-985c-43e4-e511-2991c3bd757a"
      },
      "execution_count": null,
      "outputs": [
        {
          "output_type": "stream",
          "name": "stdout",
          "text": [
            "Welcome to the Rock, Paper, Scissors Tournament! 🪨📄✂️\n",
            "Best of 3 rounds wins.\n",
            "\n",
            "Round 1 of 3\n",
            "Enter your move (rock, paper, scissors): rock\n",
            "Computer chose: scissors\n",
            "You wins this round!\n",
            "Scores → You: 1 | Computer: 0\n",
            "----------------------------------------\n",
            "Round 2 of 3\n",
            "Enter your move (rock, paper, scissors): paper\n",
            "Computer chose: scissors\n",
            "Computer wins this round!\n",
            "Scores → You: 1 | Computer: 1\n",
            "----------------------------------------\n",
            "Round 3 of 3\n",
            "Enter your move (rock, paper, scissors): paper\n",
            "Computer chose: paper\n",
            "It's a tie!\n",
            "Scores → You: 1 | Computer: 1\n",
            "----------------------------------------\n",
            "It's a draw overall! 🎯\n",
            "\n",
            "Do you want to play again? (yes/no): yes\n",
            "Welcome to the Rock, Paper, Scissors Tournament! 🪨📄✂️\n",
            "Best of 3 rounds wins.\n",
            "\n",
            "Round 1 of 3\n"
          ]
        }
      ]
    }
  ]
}